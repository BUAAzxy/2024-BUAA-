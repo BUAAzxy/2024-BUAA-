{
  "cells": [
    {
      "cell_type": "markdown",
      "metadata": {
        "id": "WYjsZ9hSYAEC"
      },
      "source": [
        "### **Basics of Python Coding - Part 1**\n",
        "\n",
        "**Zengchang Qin (PhD)**   \n",
        "Feb 02, 2024\n",
        "\n",
        "zengchang.qin@gmail.com\n",
        "\n",
        "\n"
      ]
    },
    {
      "cell_type": "markdown",
      "metadata": {
        "id": "PjqRsGC3YRds"
      },
      "source": [
        "1. Variable Assignment"
      ]
    },
    {
      "cell_type": "code",
      "execution_count": 1,
      "metadata": {
        "colab": {
          "base_uri": "https://localhost:8080/"
        },
        "id": "_-0wyR3kYJBV",
        "outputId": "2678e6b6-85ce-4095-90aa-c2c8da420ba6"
      },
      "outputs": [
        {
          "name": "stdout",
          "output_type": "stream",
          "text": [
            "3\n",
            "2\n",
            "0.5\n"
          ]
        }
      ],
      "source": [
        "x = 1\n",
        "y = 2\n",
        "print(x+y)\n",
        "print(x*y)\n",
        "print(x/y)"
      ]
    },
    {
      "cell_type": "markdown",
      "metadata": {
        "id": "j2lN7Zc6Yl4u"
      },
      "source": [
        "2. String"
      ]
    },
    {
      "cell_type": "code",
      "execution_count": 2,
      "metadata": {
        "colab": {
          "base_uri": "https://localhost:8080/"
        },
        "id": "7caPkanEYrIn",
        "outputId": "9a306fa2-3a29-42c4-e047-7e10eb716b74"
      },
      "outputs": [
        {
          "name": "stdout",
          "output_type": "stream",
          "text": [
            "Hello World!\n",
            "World!\n"
          ]
        },
        {
          "data": {
            "text/plain": [
              "str"
            ]
          },
          "execution_count": 2,
          "metadata": {},
          "output_type": "execute_result"
        }
      ],
      "source": [
        "x = \"Hello World!\"\n",
        "print(x)\n",
        "print(x[6:12])\n",
        "type(x)"
      ]
    },
    {
      "cell_type": "code",
      "execution_count": 3,
      "metadata": {
        "colab": {
          "base_uri": "https://localhost:8080/"
        },
        "id": "LXfcyidlZUpC",
        "outputId": "8a1bb56f-b641-4e28-80b1-440a36597006"
      },
      "outputs": [
        {
          "name": "stdout",
          "output_type": "stream",
          "text": [
            "Beihang is a great school in China!\n",
            "Beihang is a great school in China!\n",
            "Good student in Beihang China!\n",
            "print(f) is a great function in python.\n"
          ]
        }
      ],
      "source": [
        "name = \"Beihang\"\n",
        "country = 'China'\n",
        "\n",
        "\n",
        "print(\"%s is a great school in %s!\" %(name, country))\n",
        "print(\"{} is a great school in {}!\".format(name,country))#输出结果同上\n",
        "print(\"Good student in %s!\" %(name + \" \" + country))\n",
        "\n",
        "\n",
        "# print(f ) is a new way to represent strings, e.g.:\n",
        "\n",
        "newfun = \"print(f)\"\n",
        "coding = \"python\"\n",
        "print(f\"{newfun} is a great function in {coding}.\")\n"
      ]
    },
    {
      "cell_type": "markdown",
      "metadata": {
        "id": "sZ69qvPDari_"
      },
      "source": [
        "3. List"
      ]
    },
    {
      "cell_type": "code",
      "execution_count": 4,
      "metadata": {
        "colab": {
          "base_uri": "https://localhost:8080/"
        },
        "id": "hrj6tTr0auHM",
        "outputId": "4befdf90-7552-45c3-d2fc-e8ca1eefa6e4"
      },
      "outputs": [
        {
          "name": "stdout",
          "output_type": "stream",
          "text": [
            "Mu\n"
          ]
        },
        {
          "data": {
            "text/plain": [
              "[1, 2, 3, 'Mu', 'Tou', 'Ren', '!']"
            ]
          },
          "execution_count": 4,
          "metadata": {},
          "output_type": "execute_result"
        }
      ],
      "source": [
        "list_1 = [1, 2, 3, 'Mu', 'Tou', 'Ren']\n",
        "list_1.append('!')\n",
        "\n",
        "print(list_1[3])\n",
        "list_1"
      ]
    },
    {
      "cell_type": "markdown",
      "metadata": {
        "id": "-7p_fSYhbgXH"
      },
      "source": [
        "4. Set"
      ]
    },
    {
      "cell_type": "code",
      "execution_count": 5,
      "metadata": {
        "colab": {
          "base_uri": "https://localhost:8080/"
        },
        "id": "NnrLOViXbiG4",
        "outputId": "84fb7409-e6eb-4ea4-fc62-b3d15b75ecfa"
      },
      "outputs": [
        {
          "name": "stdout",
          "output_type": "stream",
          "text": [
            "{1, 2, 3}\n",
            "{'b', 'n', 'a'}\n",
            "{1, 2, 3, 'b', 'n', 'a'}\n"
          ]
        }
      ],
      "source": [
        "set_1 = set([1, 2, 2, 3, 2, 1, 1, 2, 2])\n",
        "set_2 = set('banana')\n",
        "print(set_1)\n",
        "print(set_2)\n",
        "\n",
        "print(set_1.union(set_2))\n",
        "\n"
      ]
    },
    {
      "cell_type": "markdown",
      "metadata": {
        "id": "ZezgkEsBcAOG"
      },
      "source": [
        "5. Dictionary"
      ]
    },
    {
      "cell_type": "code",
      "execution_count": 6,
      "metadata": {
        "colab": {
          "base_uri": "https://localhost:8080/"
        },
        "id": "MXjorkWjcCMT",
        "outputId": "368e2e76-eb6b-41dc-8e71-98d416b363ce"
      },
      "outputs": [
        {
          "name": "stdout",
          "output_type": "stream",
          "text": [
            "dict_keys([1, 2, 3]) dict_values(['apple', 'oragne', 'pear'])\n"
          ]
        }
      ],
      "source": [
        "dict_1 = {'apple':3, 'oragne':4, 'pear':2}\n",
        "dict_2 = {1: 'apple', 2:'oragne', 3: 'pear'}\n",
        "\n",
        "dict_1.keys()\n",
        "k = dict_2.keys()\n",
        "v = dict_2.values()\n",
        "\n",
        "print(k, v)\n"
      ]
    },
    {
      "cell_type": "markdown",
      "metadata": {
        "id": "YO3Vq82FdBDK"
      },
      "source": [
        "6. Numpy"
      ]
    },
    {
      "cell_type": "code",
      "execution_count": 7,
      "metadata": {
        "colab": {
          "base_uri": "https://localhost:8080/"
        },
        "id": "_a4OdLrZdIzy",
        "outputId": "f229a18f-eec6-45d0-eb03-dbd9bb5a0af7"
      },
      "outputs": [
        {
          "name": "stdout",
          "output_type": "stream",
          "text": [
            "[1 4 3]\n",
            "[[1 4 3]\n",
            " [9 2 7]]\n",
            "[[1 9]\n",
            " [4 2]\n",
            " [3 7]]\n",
            "[[82 22 66]\n",
            " [22 20 26]\n",
            " [66 26 58]]\n",
            "[[ 26  38]\n",
            " [ 38 134]]\n",
            "[   1    2    3 ... 1997 1998 1999]\n",
            "[1 2 3 4 5 6]\n",
            "[[1. 1. 1.]\n",
            " [1. 1. 1.]\n",
            " [1. 1. 1.]\n",
            " [1. 1. 1.]\n",
            " [1. 1. 1.]]\n",
            "[4.24399158e-314 4.23762559e-311 4.24186959e-311]\n"
          ]
        }
      ],
      "source": [
        "import numpy as np\n",
        "x = np.array([1, 4, 3])\n",
        "y = np.array([[1, 4, 3], [9, 2, 7]])\n",
        "z = np.arange(1, 2000, 1)\n",
        "a = np.arange(1, 7)\n",
        "\n",
        "print(x)\n",
        "print(y)\n",
        "print(y.T)\n",
        "print(y.T @ y) # @相当于矩阵相乘\n",
        "print(y @ y.T)\n",
        "\n",
        "print(z)\n",
        "print(a)\n",
        "\n",
        "l = np.ones((5, 3))\n",
        "e = np.empty(3)\n",
        "print(l)\n",
        "print(e) #随机，取决于内存状态\n"
      ]
    },
    {
      "cell_type": "markdown",
      "metadata": {
        "id": "IG8wKqR2wPV_"
      },
      "source": [
        "7. Function"
      ]
    },
    {
      "cell_type": "code",
      "execution_count": 8,
      "metadata": {
        "id": "pw4ggPucwRlX"
      },
      "outputs": [],
      "source": [
        "def sum_fun(a, b, c):\n",
        "\n",
        "    # this is the summation\n",
        "    out1 = np.sin(a) + np.cos(b)\n",
        "    out2 = np.sin(b) + np.cos(c)\n",
        "    out = out1+out2\n",
        "    print_hello()\n",
        "    return out\n",
        "\n",
        "def print_hello():\n",
        "    print('Hello World!')"
      ]
    },
    {
      "cell_type": "code",
      "execution_count": 9,
      "metadata": {
        "colab": {
          "base_uri": "https://localhost:8080/"
        },
        "id": "a-X_mXxwwXkF",
        "outputId": "8f3c83d0-960a-43d2-cf05-a1a5a748c0d4"
      },
      "outputs": [
        {
          "name": "stdout",
          "output_type": "stream",
          "text": [
            "Hello World!\n",
            "0.2762606817305445\n"
          ]
        }
      ],
      "source": [
        "print(sum_fun(1,3,5))\n"
      ]
    },
    {
      "cell_type": "markdown",
      "metadata": {
        "id": "yvw57oyM_tSn"
      },
      "source": [
        "8. If-Else\n",
        "\n",
        "*Branching statement*"
      ]
    },
    {
      "cell_type": "code",
      "execution_count": 10,
      "metadata": {
        "id": "ISo5Wc-e_w9d"
      },
      "outputs": [],
      "source": [
        "def my_nested_branching(x,y,alpha, beta):\n",
        "    # a very small decision tree by two attributes and the\n",
        "    # space is divided into 4 sub-spaces marked by different leaf numbers.\n",
        "\n",
        "    if x > alpha:\n",
        "        if y < beta:\n",
        "            out = \"leaf 1\"\n",
        "        else:\n",
        "            out = \"leaf 2\"\n",
        "    else:\n",
        "        if y > beta:\n",
        "            out = \"leaf 3\"\n",
        "        else:\n",
        "            out = \"leaf 4\"\n",
        "    return out"
      ]
    },
    {
      "cell_type": "code",
      "execution_count": 11,
      "metadata": {
        "colab": {
          "base_uri": "https://localhost:8080/"
        },
        "id": "XH2LAFP-Ad70",
        "outputId": "c8e5195a-7b98-43aa-b531-61d2b87c68d2"
      },
      "outputs": [
        {
          "name": "stdout",
          "output_type": "stream",
          "text": [
            "leaf 3\n",
            "leaf 2\n",
            "leaf 4\n",
            "leaf 1\n"
          ]
        }
      ],
      "source": [
        "print(my_nested_branching(2,4,3,3) )\n",
        "print(my_nested_branching(4,4,3,3) )\n",
        "print(my_nested_branching(2,2,3,3) )\n",
        "print(my_nested_branching(4,2,3,3) )"
      ]
    },
    {
      "cell_type": "markdown",
      "metadata": {
        "id": "dnmPdCZbCnMq"
      },
      "source": [
        "9. Ternary Operators\n",
        "\n",
        "*Most programming languages have ternary operators, which usually known as conditional expressions. It provides a way that we can use one-line code to evaluate the first expression if the condition is true, otherwise it evaluates the second expression. Python has its way to implement the ternary operator, which can be constructed as below:*"
      ]
    },
    {
      "cell_type": "code",
      "execution_count": 12,
      "metadata": {
        "colab": {
          "base_uri": "https://localhost:8080/"
        },
        "id": "jyqh_2S8IzYu",
        "outputId": "accab046-ad65-4052-b083-0be306e3197c"
      },
      "outputs": [
        {
          "name": "stdout",
          "output_type": "stream",
          "text": [
            "student\n",
            "student height in meter is: 1.6\n"
          ]
        }
      ],
      "source": [
        "is_student = True\n",
        "is_male = True\n",
        "is_female = False\n",
        "person = 'student' if is_student else 'not student'\n",
        "\n",
        "height = 175 if is_female else 160\n",
        "height2 = 175 if is_male else 160\n",
        "\n",
        "print(person)\n",
        "print(f\"student height in meter is: {height/100}\")"
      ]
    }
  ],
  "metadata": {
    "colab": {
      "provenance": []
    },
    "kernelspec": {
      "display_name": "Python 3",
      "name": "python3"
    },
    "language_info": {
      "codemirror_mode": {
        "name": "ipython",
        "version": 3
      },
      "file_extension": ".py",
      "mimetype": "text/x-python",
      "name": "python",
      "nbconvert_exporter": "python",
      "pygments_lexer": "ipython3",
      "version": "3.8.10"
    }
  },
  "nbformat": 4,
  "nbformat_minor": 0
}
